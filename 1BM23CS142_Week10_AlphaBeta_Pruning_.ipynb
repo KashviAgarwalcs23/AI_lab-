{
  "nbformat": 4,
  "nbformat_minor": 0,
  "metadata": {
    "colab": {
      "provenance": []
    },
    "kernelspec": {
      "name": "python3",
      "display_name": "Python 3"
    },
    "language_info": {
      "name": "python"
    }
  },
  "cells": [
    {
      "cell_type": "code",
      "execution_count": 2,
      "metadata": {
        "colab": {
          "base_uri": "https://localhost:8080/"
        },
        "id": "FtMTYLkzc2zt",
        "outputId": "67543ea2-0b56-4d7f-ea1d-fb73fb6b839f"
      },
      "outputs": [
        {
          "output_type": "stream",
          "name": "stdout",
          "text": [
            "Reached leaf node ['MAX(0) → MIN(0)', 'MIN(0) → MAX(0)', 'MAX(0) → MIN(0)'] → Value = 3\n",
            "Reached leaf node ['MAX(0) → MIN(0)', 'MIN(0) → MAX(0)', 'MAX(0) → MIN(1)'] → Value = 5\n",
            "Reached leaf node ['MAX(0) → MIN(0)', 'MIN(0) → MAX(1)', 'MAX(1) → MIN(2)'] → Value = 6\n",
            "Pruned at MAX node 1: α=6, β=5\n",
            "Reached leaf node ['MAX(0) → MIN(1)', 'MIN(1) → MAX(2)', 'MAX(2) → MIN(4)'] → Value = 1\n",
            "Reached leaf node ['MAX(0) → MIN(1)', 'MIN(1) → MAX(2)', 'MAX(2) → MIN(5)'] → Value = 2\n",
            "Pruned at MIN node 1: α=5, β=2\n",
            "\n",
            "------------------------------\n",
            "Optimal value (Root Node Value): 5\n",
            "Path to Root Node (MAX Mode): []\n"
          ]
        }
      ],
      "source": [
        "# Alpha-Beta Pruning Implementation in Google Colab\n",
        "\n",
        "import math\n",
        "\n",
        "# Alpha-Beta Pruning function\n",
        "def alpha_beta_pruning(depth, nodeIndex, maximizingPlayer, values, alpha, beta, maxDepth, path=[]):\n",
        "    # Base case — leaf node\n",
        "    if depth == maxDepth:\n",
        "        print(f\"Reached leaf node {path} → Value = {values[nodeIndex]}\")\n",
        "        return values[nodeIndex], path\n",
        "\n",
        "    if maximizingPlayer:\n",
        "        maxEval = -math.inf\n",
        "        bestPath = []\n",
        "        for i in range(2):  # two children per node\n",
        "            childPath = path + [f\"MAX({nodeIndex}) → MIN({nodeIndex*2+i})\"]\n",
        "            eval, _ = alpha_beta_pruning(depth + 1, nodeIndex * 2 + i, False, values, alpha, beta, maxDepth, childPath)\n",
        "            maxEval = max(maxEval, eval)\n",
        "            alpha = max(alpha, eval)\n",
        "            if beta <= alpha:\n",
        "                print(f\"Pruned at MAX node {nodeIndex}: α={alpha}, β={beta}\")\n",
        "                break\n",
        "        return maxEval, path\n",
        "    else:\n",
        "        minEval = math.inf\n",
        "        bestPath = []\n",
        "        for i in range(2):  # two children per node\n",
        "            childPath = path + [f\"MIN({nodeIndex}) → MAX({nodeIndex*2+i})\"]\n",
        "            eval, _ = alpha_beta_pruning(depth + 1, nodeIndex * 2 + i, True, values, alpha, beta, maxDepth, childPath)\n",
        "            minEval = min(minEval, eval)\n",
        "            beta = min(beta, eval)\n",
        "            if beta <= alpha:\n",
        "                print(f\"Pruned at MIN node {nodeIndex}: α={alpha}, β={beta}\")\n",
        "                break\n",
        "        return minEval, path\n",
        "\n",
        "# Example leaf node values (like in the observation book problem)\n",
        "values = [3, 5, 6, 9, 1, 2, 0, -1]\n",
        "\n",
        "# Run the Alpha-Beta Pruning algorithm\n",
        "\n",
        "\n",
        "score, path = alpha_beta_pruning(0, 0, True, values, -math.inf, math.inf, 3)\n",
        "\n",
        "print(\"\\n------------------------------\")\n",
        "print(f\"Optimal value (Root Node Value): {score}\")\n",
        "print(f\"Path to Root Node (MAX Mode): {path}\")\n"
      ]
    }
  ]
}